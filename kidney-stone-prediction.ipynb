{
 "cells": [
  {
   "cell_type": "code",
   "execution_count": 1,
   "id": "525ae436",
   "metadata": {
    "execution": {
     "iopub.execute_input": "2024-04-11T16:27:23.698583Z",
     "iopub.status.busy": "2024-04-11T16:27:23.698198Z",
     "iopub.status.idle": "2024-04-11T16:27:26.178380Z",
     "shell.execute_reply": "2024-04-11T16:27:26.176963Z"
    },
    "papermill": {
     "duration": 2.488804,
     "end_time": "2024-04-11T16:27:26.181124",
     "exception": false,
     "start_time": "2024-04-11T16:27:23.692320",
     "status": "completed"
    },
    "tags": []
   },
   "outputs": [],
   "source": [
    "import pandas as pd\n",
    "import numpy as np\n",
    "import matplotlib.pyplot as plt\n",
    "import seaborn as sns\n"
   ]
  },
  {
   "cell_type": "code",
   "execution_count": 2,
   "id": "023d2db2",
   "metadata": {
    "execution": {
     "iopub.execute_input": "2024-04-11T16:27:26.191947Z",
     "iopub.status.busy": "2024-04-11T16:27:26.191378Z",
     "iopub.status.idle": "2024-04-11T16:27:26.220173Z",
     "shell.execute_reply": "2024-04-11T16:27:26.218774Z"
    },
    "papermill": {
     "duration": 0.037219,
     "end_time": "2024-04-11T16:27:26.222962",
     "exception": false,
     "start_time": "2024-04-11T16:27:26.185743",
     "status": "completed"
    },
    "tags": []
   },
   "outputs": [],
   "source": [
    "train=pd.read_csv(\"/kaggle/input/playground-series-s3e12/train.csv\")\n",
    "test=pd.read_csv(\"/kaggle/input/playground-series-s3e12/test.csv\")"
   ]
  },
  {
   "cell_type": "code",
   "execution_count": 3,
   "id": "1a26d3a6",
   "metadata": {
    "execution": {
     "iopub.execute_input": "2024-04-11T16:27:26.232607Z",
     "iopub.status.busy": "2024-04-11T16:27:26.232249Z",
     "iopub.status.idle": "2024-04-11T16:27:26.269412Z",
     "shell.execute_reply": "2024-04-11T16:27:26.268295Z"
    },
    "papermill": {
     "duration": 0.044786,
     "end_time": "2024-04-11T16:27:26.271789",
     "exception": false,
     "start_time": "2024-04-11T16:27:26.227003",
     "status": "completed"
    },
    "tags": []
   },
   "outputs": [
    {
     "name": "stdout",
     "output_type": "stream",
     "text": [
      "<class 'pandas.core.frame.DataFrame'>\n",
      "RangeIndex: 414 entries, 0 to 413\n",
      "Data columns (total 8 columns):\n",
      " #   Column   Non-Null Count  Dtype  \n",
      "---  ------   --------------  -----  \n",
      " 0   id       414 non-null    int64  \n",
      " 1   gravity  414 non-null    float64\n",
      " 2   ph       414 non-null    float64\n",
      " 3   osmo     414 non-null    int64  \n",
      " 4   cond     414 non-null    float64\n",
      " 5   urea     414 non-null    int64  \n",
      " 6   calc     414 non-null    float64\n",
      " 7   target   414 non-null    int64  \n",
      "dtypes: float64(4), int64(4)\n",
      "memory usage: 26.0 KB\n"
     ]
    }
   ],
   "source": [
    "train.info()"
   ]
  },
  {
   "cell_type": "code",
   "execution_count": 4,
   "id": "7cf08ec8",
   "metadata": {
    "execution": {
     "iopub.execute_input": "2024-04-11T16:27:26.281543Z",
     "iopub.status.busy": "2024-04-11T16:27:26.280714Z",
     "iopub.status.idle": "2024-04-11T16:27:26.404139Z",
     "shell.execute_reply": "2024-04-11T16:27:26.402145Z"
    },
    "papermill": {
     "duration": 0.131755,
     "end_time": "2024-04-11T16:27:26.407440",
     "exception": false,
     "start_time": "2024-04-11T16:27:26.275685",
     "status": "completed"
    },
    "tags": []
   },
   "outputs": [
    {
     "data": {
      "text/html": [
       "<div>\n",
       "<style scoped>\n",
       "    .dataframe tbody tr th:only-of-type {\n",
       "        vertical-align: middle;\n",
       "    }\n",
       "\n",
       "    .dataframe tbody tr th {\n",
       "        vertical-align: top;\n",
       "    }\n",
       "\n",
       "    .dataframe thead th {\n",
       "        text-align: right;\n",
       "    }\n",
       "</style>\n",
       "<table border=\"1\" class=\"dataframe\">\n",
       "  <thead>\n",
       "    <tr style=\"text-align: right;\">\n",
       "      <th></th>\n",
       "      <th>id</th>\n",
       "      <th>gravity</th>\n",
       "      <th>ph</th>\n",
       "      <th>osmo</th>\n",
       "      <th>cond</th>\n",
       "      <th>urea</th>\n",
       "      <th>calc</th>\n",
       "      <th>target</th>\n",
       "    </tr>\n",
       "  </thead>\n",
       "  <tbody>\n",
       "    <tr>\n",
       "      <th>0</th>\n",
       "      <td>0</td>\n",
       "      <td>1.013</td>\n",
       "      <td>6.19</td>\n",
       "      <td>443</td>\n",
       "      <td>14.8</td>\n",
       "      <td>124</td>\n",
       "      <td>1.45</td>\n",
       "      <td>0</td>\n",
       "    </tr>\n",
       "    <tr>\n",
       "      <th>1</th>\n",
       "      <td>1</td>\n",
       "      <td>1.025</td>\n",
       "      <td>5.40</td>\n",
       "      <td>703</td>\n",
       "      <td>23.6</td>\n",
       "      <td>394</td>\n",
       "      <td>4.18</td>\n",
       "      <td>0</td>\n",
       "    </tr>\n",
       "    <tr>\n",
       "      <th>2</th>\n",
       "      <td>2</td>\n",
       "      <td>1.009</td>\n",
       "      <td>6.13</td>\n",
       "      <td>371</td>\n",
       "      <td>24.5</td>\n",
       "      <td>159</td>\n",
       "      <td>9.04</td>\n",
       "      <td>0</td>\n",
       "    </tr>\n",
       "    <tr>\n",
       "      <th>3</th>\n",
       "      <td>3</td>\n",
       "      <td>1.021</td>\n",
       "      <td>4.91</td>\n",
       "      <td>442</td>\n",
       "      <td>20.8</td>\n",
       "      <td>398</td>\n",
       "      <td>6.63</td>\n",
       "      <td>1</td>\n",
       "    </tr>\n",
       "    <tr>\n",
       "      <th>4</th>\n",
       "      <td>4</td>\n",
       "      <td>1.021</td>\n",
       "      <td>5.53</td>\n",
       "      <td>874</td>\n",
       "      <td>17.8</td>\n",
       "      <td>385</td>\n",
       "      <td>2.21</td>\n",
       "      <td>1</td>\n",
       "    </tr>\n",
       "    <tr>\n",
       "      <th>...</th>\n",
       "      <td>...</td>\n",
       "      <td>...</td>\n",
       "      <td>...</td>\n",
       "      <td>...</td>\n",
       "      <td>...</td>\n",
       "      <td>...</td>\n",
       "      <td>...</td>\n",
       "      <td>...</td>\n",
       "    </tr>\n",
       "    <tr>\n",
       "      <th>409</th>\n",
       "      <td>409</td>\n",
       "      <td>1.011</td>\n",
       "      <td>5.21</td>\n",
       "      <td>527</td>\n",
       "      <td>21.4</td>\n",
       "      <td>75</td>\n",
       "      <td>1.53</td>\n",
       "      <td>0</td>\n",
       "    </tr>\n",
       "    <tr>\n",
       "      <th>410</th>\n",
       "      <td>410</td>\n",
       "      <td>1.024</td>\n",
       "      <td>5.53</td>\n",
       "      <td>577</td>\n",
       "      <td>19.7</td>\n",
       "      <td>224</td>\n",
       "      <td>0.77</td>\n",
       "      <td>0</td>\n",
       "    </tr>\n",
       "    <tr>\n",
       "      <th>411</th>\n",
       "      <td>411</td>\n",
       "      <td>1.018</td>\n",
       "      <td>6.28</td>\n",
       "      <td>455</td>\n",
       "      <td>22.2</td>\n",
       "      <td>270</td>\n",
       "      <td>7.68</td>\n",
       "      <td>1</td>\n",
       "    </tr>\n",
       "    <tr>\n",
       "      <th>412</th>\n",
       "      <td>412</td>\n",
       "      <td>1.008</td>\n",
       "      <td>7.12</td>\n",
       "      <td>325</td>\n",
       "      <td>12.6</td>\n",
       "      <td>75</td>\n",
       "      <td>1.03</td>\n",
       "      <td>1</td>\n",
       "    </tr>\n",
       "    <tr>\n",
       "      <th>413</th>\n",
       "      <td>413</td>\n",
       "      <td>1.011</td>\n",
       "      <td>6.13</td>\n",
       "      <td>364</td>\n",
       "      <td>9.9</td>\n",
       "      <td>159</td>\n",
       "      <td>0.27</td>\n",
       "      <td>0</td>\n",
       "    </tr>\n",
       "  </tbody>\n",
       "</table>\n",
       "<p>414 rows × 8 columns</p>\n",
       "</div>"
      ],
      "text/plain": [
       "      id  gravity    ph  osmo  cond  urea  calc  target\n",
       "0      0    1.013  6.19   443  14.8   124  1.45       0\n",
       "1      1    1.025  5.40   703  23.6   394  4.18       0\n",
       "2      2    1.009  6.13   371  24.5   159  9.04       0\n",
       "3      3    1.021  4.91   442  20.8   398  6.63       1\n",
       "4      4    1.021  5.53   874  17.8   385  2.21       1\n",
       "..   ...      ...   ...   ...   ...   ...   ...     ...\n",
       "409  409    1.011  5.21   527  21.4    75  1.53       0\n",
       "410  410    1.024  5.53   577  19.7   224  0.77       0\n",
       "411  411    1.018  6.28   455  22.2   270  7.68       1\n",
       "412  412    1.008  7.12   325  12.6    75  1.03       1\n",
       "413  413    1.011  6.13   364   9.9   159  0.27       0\n",
       "\n",
       "[414 rows x 8 columns]"
      ]
     },
     "execution_count": 4,
     "metadata": {},
     "output_type": "execute_result"
    }
   ],
   "source": [
    "train"
   ]
  },
  {
   "cell_type": "code",
   "execution_count": 5,
   "id": "73f65a09",
   "metadata": {
    "execution": {
     "iopub.execute_input": "2024-04-11T16:27:26.417682Z",
     "iopub.status.busy": "2024-04-11T16:27:26.417027Z",
     "iopub.status.idle": "2024-04-11T16:27:26.438749Z",
     "shell.execute_reply": "2024-04-11T16:27:26.437936Z"
    },
    "papermill": {
     "duration": 0.029911,
     "end_time": "2024-04-11T16:27:26.441690",
     "exception": false,
     "start_time": "2024-04-11T16:27:26.411779",
     "status": "completed"
    },
    "tags": []
   },
   "outputs": [
    {
     "data": {
      "text/html": [
       "<div>\n",
       "<style scoped>\n",
       "    .dataframe tbody tr th:only-of-type {\n",
       "        vertical-align: middle;\n",
       "    }\n",
       "\n",
       "    .dataframe tbody tr th {\n",
       "        vertical-align: top;\n",
       "    }\n",
       "\n",
       "    .dataframe thead th {\n",
       "        text-align: right;\n",
       "    }\n",
       "</style>\n",
       "<table border=\"1\" class=\"dataframe\">\n",
       "  <thead>\n",
       "    <tr style=\"text-align: right;\">\n",
       "      <th></th>\n",
       "      <th>gravity</th>\n",
       "      <th>ph</th>\n",
       "      <th>osmo</th>\n",
       "      <th>cond</th>\n",
       "      <th>urea</th>\n",
       "      <th>calc</th>\n",
       "    </tr>\n",
       "  </thead>\n",
       "  <tbody>\n",
       "    <tr>\n",
       "      <th>0</th>\n",
       "      <td>1.013</td>\n",
       "      <td>6.19</td>\n",
       "      <td>443</td>\n",
       "      <td>14.8</td>\n",
       "      <td>124</td>\n",
       "      <td>1.45</td>\n",
       "    </tr>\n",
       "    <tr>\n",
       "      <th>1</th>\n",
       "      <td>1.025</td>\n",
       "      <td>5.40</td>\n",
       "      <td>703</td>\n",
       "      <td>23.6</td>\n",
       "      <td>394</td>\n",
       "      <td>4.18</td>\n",
       "    </tr>\n",
       "    <tr>\n",
       "      <th>2</th>\n",
       "      <td>1.009</td>\n",
       "      <td>6.13</td>\n",
       "      <td>371</td>\n",
       "      <td>24.5</td>\n",
       "      <td>159</td>\n",
       "      <td>9.04</td>\n",
       "    </tr>\n",
       "    <tr>\n",
       "      <th>3</th>\n",
       "      <td>1.021</td>\n",
       "      <td>4.91</td>\n",
       "      <td>442</td>\n",
       "      <td>20.8</td>\n",
       "      <td>398</td>\n",
       "      <td>6.63</td>\n",
       "    </tr>\n",
       "    <tr>\n",
       "      <th>4</th>\n",
       "      <td>1.021</td>\n",
       "      <td>5.53</td>\n",
       "      <td>874</td>\n",
       "      <td>17.8</td>\n",
       "      <td>385</td>\n",
       "      <td>2.21</td>\n",
       "    </tr>\n",
       "    <tr>\n",
       "      <th>...</th>\n",
       "      <td>...</td>\n",
       "      <td>...</td>\n",
       "      <td>...</td>\n",
       "      <td>...</td>\n",
       "      <td>...</td>\n",
       "      <td>...</td>\n",
       "    </tr>\n",
       "    <tr>\n",
       "      <th>409</th>\n",
       "      <td>1.011</td>\n",
       "      <td>5.21</td>\n",
       "      <td>527</td>\n",
       "      <td>21.4</td>\n",
       "      <td>75</td>\n",
       "      <td>1.53</td>\n",
       "    </tr>\n",
       "    <tr>\n",
       "      <th>410</th>\n",
       "      <td>1.024</td>\n",
       "      <td>5.53</td>\n",
       "      <td>577</td>\n",
       "      <td>19.7</td>\n",
       "      <td>224</td>\n",
       "      <td>0.77</td>\n",
       "    </tr>\n",
       "    <tr>\n",
       "      <th>411</th>\n",
       "      <td>1.018</td>\n",
       "      <td>6.28</td>\n",
       "      <td>455</td>\n",
       "      <td>22.2</td>\n",
       "      <td>270</td>\n",
       "      <td>7.68</td>\n",
       "    </tr>\n",
       "    <tr>\n",
       "      <th>412</th>\n",
       "      <td>1.008</td>\n",
       "      <td>7.12</td>\n",
       "      <td>325</td>\n",
       "      <td>12.6</td>\n",
       "      <td>75</td>\n",
       "      <td>1.03</td>\n",
       "    </tr>\n",
       "    <tr>\n",
       "      <th>413</th>\n",
       "      <td>1.011</td>\n",
       "      <td>6.13</td>\n",
       "      <td>364</td>\n",
       "      <td>9.9</td>\n",
       "      <td>159</td>\n",
       "      <td>0.27</td>\n",
       "    </tr>\n",
       "  </tbody>\n",
       "</table>\n",
       "<p>414 rows × 6 columns</p>\n",
       "</div>"
      ],
      "text/plain": [
       "     gravity    ph  osmo  cond  urea  calc\n",
       "0      1.013  6.19   443  14.8   124  1.45\n",
       "1      1.025  5.40   703  23.6   394  4.18\n",
       "2      1.009  6.13   371  24.5   159  9.04\n",
       "3      1.021  4.91   442  20.8   398  6.63\n",
       "4      1.021  5.53   874  17.8   385  2.21\n",
       "..       ...   ...   ...   ...   ...   ...\n",
       "409    1.011  5.21   527  21.4    75  1.53\n",
       "410    1.024  5.53   577  19.7   224  0.77\n",
       "411    1.018  6.28   455  22.2   270  7.68\n",
       "412    1.008  7.12   325  12.6    75  1.03\n",
       "413    1.011  6.13   364   9.9   159  0.27\n",
       "\n",
       "[414 rows x 6 columns]"
      ]
     },
     "execution_count": 5,
     "metadata": {},
     "output_type": "execute_result"
    }
   ],
   "source": [
    "X=train.iloc[:,1:-1]\n",
    "X"
   ]
  },
  {
   "cell_type": "code",
   "execution_count": 6,
   "id": "3817d1b2",
   "metadata": {
    "execution": {
     "iopub.execute_input": "2024-04-11T16:27:26.453009Z",
     "iopub.status.busy": "2024-04-11T16:27:26.452004Z",
     "iopub.status.idle": "2024-04-11T16:27:26.461224Z",
     "shell.execute_reply": "2024-04-11T16:27:26.459940Z"
    },
    "papermill": {
     "duration": 0.017238,
     "end_time": "2024-04-11T16:27:26.463694",
     "exception": false,
     "start_time": "2024-04-11T16:27:26.446456",
     "status": "completed"
    },
    "tags": []
   },
   "outputs": [
    {
     "data": {
      "text/plain": [
       "0      0\n",
       "1      0\n",
       "2      0\n",
       "3      1\n",
       "4      1\n",
       "      ..\n",
       "409    0\n",
       "410    0\n",
       "411    1\n",
       "412    1\n",
       "413    0\n",
       "Name: target, Length: 414, dtype: int64"
      ]
     },
     "execution_count": 6,
     "metadata": {},
     "output_type": "execute_result"
    }
   ],
   "source": [
    "Y=train['target']\n",
    "Y"
   ]
  },
  {
   "cell_type": "code",
   "execution_count": 7,
   "id": "c78eea6d",
   "metadata": {
    "execution": {
     "iopub.execute_input": "2024-04-11T16:27:26.474502Z",
     "iopub.status.busy": "2024-04-11T16:27:26.474128Z",
     "iopub.status.idle": "2024-04-11T16:27:26.795106Z",
     "shell.execute_reply": "2024-04-11T16:27:26.793770Z"
    },
    "papermill": {
     "duration": 0.32901,
     "end_time": "2024-04-11T16:27:26.797292",
     "exception": false,
     "start_time": "2024-04-11T16:27:26.468282",
     "status": "completed"
    },
    "tags": []
   },
   "outputs": [
    {
     "data": {
      "text/plain": [
       "((331, 6), (83, 6), (331,), (83,))"
      ]
     },
     "execution_count": 7,
     "metadata": {},
     "output_type": "execute_result"
    }
   ],
   "source": [
    "from sklearn.model_selection import train_test_split\n",
    "X_train,X_test,Y_train,Y_test=train_test_split(X,Y,random_state=42,test_size=0.2)\n",
    "X_train.shape,X_test.shape,Y_train.shape,Y_test.shape"
   ]
  },
  {
   "cell_type": "code",
   "execution_count": 8,
   "id": "66efcd1c",
   "metadata": {
    "execution": {
     "iopub.execute_input": "2024-04-11T16:27:26.808000Z",
     "iopub.status.busy": "2024-04-11T16:27:26.807594Z",
     "iopub.status.idle": "2024-04-11T16:27:27.271353Z",
     "shell.execute_reply": "2024-04-11T16:27:27.270470Z"
    },
    "papermill": {
     "duration": 0.471927,
     "end_time": "2024-04-11T16:27:27.273735",
     "exception": false,
     "start_time": "2024-04-11T16:27:26.801808",
     "status": "completed"
    },
    "tags": []
   },
   "outputs": [
    {
     "data": {
      "image/png": "[encoded data removed]",
      "text/plain": [
       "<Figure size 800x600 with 2 Axes>"
      ]
     },
     "metadata": {},
     "output_type": "display_data"
    }
   ],
   "source": [
    "# Calculate the correlation matrix\n",
    "correlation_matrix = (pd.concat([X_train, Y_train], axis=1)).corr()\n",
    "\n",
    "# Plot heatmap\n",
    "plt.figure(figsize=(8, 6))\n",
    "sns.heatmap(correlation_matrix, annot=True, cmap='coolwarm', linewidths=0.5)\n",
    "plt.title('Correlation Matrix Heatmap')\n",
    "plt.show()"
   ]
  },
  {
   "cell_type": "code",
   "execution_count": 9,
   "id": "192fa3c1",
   "metadata": {
    "execution": {
     "iopub.execute_input": "2024-04-11T16:27:27.287338Z",
     "iopub.status.busy": "2024-04-11T16:27:27.286952Z",
     "iopub.status.idle": "2024-04-11T16:27:27.574590Z",
     "shell.execute_reply": "2024-04-11T16:27:27.573514Z"
    },
    "papermill": {
     "duration": 0.297642,
     "end_time": "2024-04-11T16:27:27.577122",
     "exception": false,
     "start_time": "2024-04-11T16:27:27.279480",
     "status": "completed"
    },
    "tags": []
   },
   "outputs": [],
   "source": [
    "models={}\n",
    "\n",
    "from sklearn.linear_model import LogisticRegression\n",
    "models['LogisticRegression']=LogisticRegression(max_iter=150)\n",
    "\n",
    "from sklearn.svm import LinearSVC\n",
    "models['SVM']=LinearSVC()\n",
    "\n",
    "from sklearn.tree import DecisionTreeClassifier\n",
    "models['DecisionTree']=DecisionTreeClassifier()\n",
    "\n",
    "from sklearn.ensemble import RandomForestClassifier\n",
    "models['RandomForest']=RandomForestClassifier()\n",
    "\n",
    "from sklearn.naive_bayes import GaussianNB\n",
    "models['naive_bayes']=GaussianNB()\n",
    "\n",
    "from sklearn.neighbors import KNeighborsClassifier\n",
    "models['KNN']=KNeighborsClassifier()"
   ]
  },
  {
   "cell_type": "code",
   "execution_count": 10,
   "id": "1ce757ae",
   "metadata": {
    "execution": {
     "iopub.execute_input": "2024-04-11T16:27:27.589880Z",
     "iopub.status.busy": "2024-04-11T16:27:27.589486Z",
     "iopub.status.idle": "2024-04-11T16:27:27.887023Z",
     "shell.execute_reply": "2024-04-11T16:27:27.885894Z"
    },
    "papermill": {
     "duration": 0.306941,
     "end_time": "2024-04-11T16:27:27.889652",
     "exception": false,
     "start_time": "2024-04-11T16:27:27.582711",
     "status": "completed"
    },
    "tags": []
   },
   "outputs": [
    {
     "name": "stderr",
     "output_type": "stream",
     "text": [
      "/opt/conda/lib/python3.10/site-packages/sklearn/svm/_base.py:1244: ConvergenceWarning: Liblinear failed to converge, increase the number of iterations.\n",
      "  warnings.warn(\n"
     ]
    }
   ],
   "source": [
    "accuracy,precision,recall={},{},{}\n",
    "from sklearn.metrics import accuracy_score,precision_score,recall_score\n",
    "for key in models:\n",
    "    models[key].fit(X_train,Y_train)\n",
    "    Y_predict=models[key].predict(X_test)\n",
    "    accuracy[key]=accuracy_score(Y_test,Y_predict)\n",
    "    precision[key]=precision_score(Y_test,Y_predict)\n",
    "    recall[key]=recall_score(Y_test,Y_predict)\n",
    "    "
   ]
  },
  {
   "cell_type": "code",
   "execution_count": 11,
   "id": "e8202b09",
   "metadata": {
    "execution": {
     "iopub.execute_input": "2024-04-11T16:27:27.902982Z",
     "iopub.status.busy": "2024-04-11T16:27:27.902541Z",
     "iopub.status.idle": "2024-04-11T16:27:27.916635Z",
     "shell.execute_reply": "2024-04-11T16:27:27.915760Z"
    },
    "papermill": {
     "duration": 0.023614,
     "end_time": "2024-04-11T16:27:27.919060",
     "exception": false,
     "start_time": "2024-04-11T16:27:27.895446",
     "status": "completed"
    },
    "tags": []
   },
   "outputs": [
    {
     "data": {
      "text/html": [
       "<div>\n",
       "<style scoped>\n",
       "    .dataframe tbody tr th:only-of-type {\n",
       "        vertical-align: middle;\n",
       "    }\n",
       "\n",
       "    .dataframe tbody tr th {\n",
       "        vertical-align: top;\n",
       "    }\n",
       "\n",
       "    .dataframe thead th {\n",
       "        text-align: right;\n",
       "    }\n",
       "</style>\n",
       "<table border=\"1\" class=\"dataframe\">\n",
       "  <thead>\n",
       "    <tr style=\"text-align: right;\">\n",
       "      <th></th>\n",
       "      <th>accuracy</th>\n",
       "      <th>precision</th>\n",
       "      <th>recall</th>\n",
       "    </tr>\n",
       "  </thead>\n",
       "  <tbody>\n",
       "    <tr>\n",
       "      <th>LogisticRegression</th>\n",
       "      <td>0.783133</td>\n",
       "      <td>0.812500</td>\n",
       "      <td>0.684211</td>\n",
       "    </tr>\n",
       "    <tr>\n",
       "      <th>SVM</th>\n",
       "      <td>0.626506</td>\n",
       "      <td>1.000000</td>\n",
       "      <td>0.184211</td>\n",
       "    </tr>\n",
       "    <tr>\n",
       "      <th>DecisionTree</th>\n",
       "      <td>0.674699</td>\n",
       "      <td>0.648649</td>\n",
       "      <td>0.631579</td>\n",
       "    </tr>\n",
       "    <tr>\n",
       "      <th>RandomForest</th>\n",
       "      <td>0.722892</td>\n",
       "      <td>0.727273</td>\n",
       "      <td>0.631579</td>\n",
       "    </tr>\n",
       "    <tr>\n",
       "      <th>naive_bayes</th>\n",
       "      <td>0.783133</td>\n",
       "      <td>0.763158</td>\n",
       "      <td>0.763158</td>\n",
       "    </tr>\n",
       "    <tr>\n",
       "      <th>KNN</th>\n",
       "      <td>0.626506</td>\n",
       "      <td>0.629630</td>\n",
       "      <td>0.447368</td>\n",
       "    </tr>\n",
       "  </tbody>\n",
       "</table>\n",
       "</div>"
      ],
      "text/plain": [
       "                    accuracy  precision    recall\n",
       "LogisticRegression  0.783133   0.812500  0.684211\n",
       "SVM                 0.626506   1.000000  0.184211\n",
       "DecisionTree        0.674699   0.648649  0.631579\n",
       "RandomForest        0.722892   0.727273  0.631579\n",
       "naive_bayes         0.783133   0.763158  0.763158\n",
       "KNN                 0.626506   0.629630  0.447368"
      ]
     },
     "execution_count": 11,
     "metadata": {},
     "output_type": "execute_result"
    }
   ],
   "source": [
    "model_metrics=pd.DataFrame(index=models.keys(),columns=['accuracy','precision','recall'])\n",
    "model_metrics.accuracy=accuracy.values()\n",
    "model_metrics.precision=precision.values()\n",
    "model_metrics.recall=recall.values()\n",
    "model_metrics"
   ]
  },
  {
   "cell_type": "code",
   "execution_count": 12,
   "id": "e8eafcec",
   "metadata": {
    "execution": {
     "iopub.execute_input": "2024-04-11T16:27:27.932473Z",
     "iopub.status.busy": "2024-04-11T16:27:27.932033Z",
     "iopub.status.idle": "2024-04-11T16:27:28.259687Z",
     "shell.execute_reply": "2024-04-11T16:27:28.258108Z"
    },
    "papermill": {
     "duration": 0.33853,
     "end_time": "2024-04-11T16:27:28.263305",
     "exception": false,
     "start_time": "2024-04-11T16:27:27.924775",
     "status": "completed"
    },
    "tags": []
   },
   "outputs": [
    {
     "data": {
      "image/png": "[encoded data removed]",
      "text/plain": [
       "<Figure size 700x400 with 1 Axes>"
      ]
     },
     "metadata": {},
     "output_type": "display_data"
    }
   ],
   "source": [
    "model_metrics.plot(figsize=(7,4),rot=45)\n",
    "plt.title('Evaluation Metrics');"
   ]
  }
 ],
 "metadata": {
  "kaggle": {
   "accelerator": "none",
   "dataSources": [
    {
     "databundleVersionId": 5220863,
     "sourceId": 49200,
     "sourceType": "competition"
    }
   ],
   "dockerImageVersionId": 30626,
   "isGpuEnabled": false,
   "isInternetEnabled": true,
   "language": "python",
   "sourceType": "notebook"
  },
  "kernelspec": {
   "display_name": "Python 3",
   "language": "python",
   "name": "python3"
  },
  "language_info": {
   "codemirror_mode": {
    "name": "ipython",
    "version": 3
   },
   "file_extension": ".py",
   "mimetype": "text/x-python",
   "name": "python",
   "nbconvert_exporter": "python",
   "pygments_lexer": "ipython3",
   "version": "3.10.12"
  },
  "papermill": {
   "default_parameters": {},
   "duration": 9.493248,
   "end_time": "2024-04-11T16:27:28.994317",
   "environment_variables": {},
   "exception": null,
   "input_path": "__notebook__.ipynb",
   "output_path": "__notebook__.ipynb",
   "parameters": {},
   "start_time": "2024-04-11T16:27:19.501069",
   "version": "2.4.0"
  }
 },
 "nbformat": 4,
 "nbformat_minor": 5
}
